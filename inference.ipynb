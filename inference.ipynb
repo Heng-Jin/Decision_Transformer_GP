{
 "cells": [
  {
   "cell_type": "code",
   "execution_count": 1,
   "id": "03f6cec9",
   "metadata": {},
   "outputs": [
    {
     "name": "stderr",
     "output_type": "stream",
     "text": [
      "D:\\anaconda3\\envs\\research\\lib\\site-packages\\tqdm\\auto.py:21: TqdmWarning: IProgress not found. Please update jupyter and ipywidgets. See https://ipywidgets.readthedocs.io/en/stable/user_install.html\n",
      "  from .autonotebook import tqdm as notebook_tqdm\n"
     ]
    }
   ],
   "source": [
    "from transformers import DecisionTransformerModel\n",
    "import torch\n",
    "import numpy as np\n",
    "import matplotlib.pyplot as plt  \n",
    "\n",
    "model_name = r\"D:\\UCL_codes\\research project\\Untitled Folder\\output\\checkpoint-100000\"\n",
    "model = DecisionTransformerModel.from_pretrained(model_name)\n",
    "\n",
    "state_dim = 1 # state size\n",
    "act_dim = 1 # action size"
   ]
  },
  {
   "cell_type": "code",
   "execution_count": 2,
   "id": "a6fac2d8",
   "metadata": {},
   "outputs": [
    {
     "name": "stdout",
     "output_type": "stream",
     "text": [
      "3.735 -0.6250762041214045\n",
      "3.735 0 24\n"
     ]
    }
   ],
   "source": [
    "# environment data \n",
    "import os\n",
    "import json\n",
    "folder_path = r'.\\Onefunction_PI'\n",
    "save_path = 'train_data_strategy_1'\n",
    "filename = '1.json'\n",
    "with open(os.path.join(folder_path, filename), 'r') as f:\n",
    "    data = json.load(f)\n",
    "xs = data['xs']\n",
    "ys = data['ys']\n",
    "x_obs = data['PI']['x_obs']\n",
    "y_obs = data['PI']['y_obs']\n",
    "with open(os.path.join(save_path, filename), 'r') as f:\n",
    "    data = json.load(f)\n",
    "rtg = data['RTG']\n",
    "print(x_obs[0],y_obs[0])\n",
    "print(data['A'][0],data['S'][0],data['RTG'][0],)\n",
    "\n"
   ]
  },
  {
   "cell_type": "code",
   "execution_count": 3,
   "id": "e5e84ad2",
   "metadata": {},
   "outputs": [],
   "source": [
    "def get_action(model, states, actions, rewards, returns_to_go, timesteps):\n",
    "    # This implementation does not condition on past rewards\n",
    "\n",
    "    states = states.reshape(1, -1, model.config.state_dim)\n",
    "    actions = actions.reshape(1, -1, model.config.act_dim)\n",
    "    returns_to_go = returns_to_go.reshape(1, -1, 1)\n",
    "    timesteps = timesteps.reshape(1, -1)\n",
    "\n",
    "    # The prediction is conditioned on up to 20 previous time-steps\n",
    "    states = states[:, -model.config.max_length:]\n",
    "    actions = actions[:, -model.config.max_length:]\n",
    "    returns_to_go = returns_to_go[:, -model.config.max_length:]\n",
    "    timesteps = timesteps[:, -model.config.max_length:]\n",
    "\n",
    "    # pad all tokens to sequence length, this is required if we process batches\n",
    "    padding = model.config.max_length - states.shape[1]\n",
    "    attention_mask = torch.cat([torch.zeros(padding), torch.ones(states.shape[1])])\n",
    "    attention_mask = attention_mask.to(dtype=torch.long).reshape(1, -1)\n",
    "    states = torch.cat([torch.zeros((1, padding, state_dim)), states], dim=1).float()\n",
    "    actions = torch.cat([torch.zeros((1, padding, act_dim)), actions], dim=1).float()\n",
    "    returns_to_go = torch.cat([torch.zeros((1, padding, 1)), returns_to_go], dim=1).float()\n",
    "    timesteps = torch.cat([torch.zeros((1, padding), dtype=torch.long), timesteps], dim=1)\n",
    "\n",
    "    # perform the prediction\n",
    "    state_preds, action_preds, return_preds = model(\n",
    "        states=states,\n",
    "        actions=actions,\n",
    "        rewards=rewards,\n",
    "        returns_to_go=returns_to_go,\n",
    "        timesteps=timesteps,\n",
    "        attention_mask=attention_mask,\n",
    "        return_dict=False, )\n",
    "    return action_preds[0, -1]\n",
    "\n",
    "def find_nearest(array, x):\n",
    "    min_diff = float('inf')\n",
    "    min_index = None\n",
    "    for i, a in enumerate(array):\n",
    "        diff = abs(a - x)\n",
    "        if diff < min_diff:\n",
    "            min_diff = diff\n",
    "            min_index = i\n",
    "    return min_index"
   ]
  },
  {
   "cell_type": "code",
   "execution_count": 4,
   "id": "8782497d",
   "metadata": {},
   "outputs": [
    {
     "name": "stdout",
     "output_type": "stream",
     "text": [
      "torch.Size([1, 1]) torch.Size([0, 1]) torch.Size([0]) torch.Size([1, 1])\n"
     ]
    },
    {
     "data": {
      "text/plain": [
       "1"
      ]
     },
     "execution_count": 4,
     "metadata": {},
     "output_type": "execute_result"
    }
   ],
   "source": [
    "target_return = torch.tensor(4).float().reshape(1, 1)\n",
    "states = torch.zeros((1, state_dim)).float()\n",
    "actions = torch.zeros((0, act_dim)).float()\n",
    "rewards = torch.zeros(0).float()\n",
    "timesteps = torch.tensor(0).reshape(1, 1).long()\n",
    "print(states.size(), actions.size(), rewards.size(), target_return.size())\n",
    "states.shape[1]"
   ]
  },
  {
   "cell_type": "code",
   "execution_count": 5,
   "id": "d4b6e026",
   "metadata": {},
   "outputs": [
    {
     "name": "stdout",
     "output_type": "stream",
     "text": [
      "tensor([0.0718], grad_fn=<MulBackward0>)\n",
      "torch.Size([2, 1]) torch.Size([1, 1]) torch.Size([1, 2]) torch.Size([1]) torch.Size([1, 2])\n",
      "tensor([-2.7848], grad_fn=<MulBackward0>)\n",
      "torch.Size([3, 1]) torch.Size([2, 1]) torch.Size([1, 3]) torch.Size([2]) torch.Size([1, 3])\n",
      "tensor([-3.6259], grad_fn=<MulBackward0>)\n",
      "torch.Size([4, 1]) torch.Size([3, 1]) torch.Size([1, 4]) torch.Size([3]) torch.Size([1, 4])\n",
      "tensor([4.9348], grad_fn=<MulBackward0>)\n",
      "torch.Size([5, 1]) torch.Size([4, 1]) torch.Size([1, 5]) torch.Size([4]) torch.Size([1, 5])\n",
      "tensor([4.9893], grad_fn=<MulBackward0>)\n",
      "torch.Size([6, 1]) torch.Size([5, 1]) torch.Size([1, 6]) torch.Size([5]) torch.Size([1, 6])\n",
      "tensor([4.9895], grad_fn=<MulBackward0>)\n",
      "torch.Size([7, 1]) torch.Size([6, 1]) torch.Size([1, 7]) torch.Size([6]) torch.Size([1, 7])\n",
      "tensor([4.9996], grad_fn=<MulBackward0>)\n",
      "torch.Size([8, 1]) torch.Size([7, 1]) torch.Size([1, 8]) torch.Size([7]) torch.Size([1, 8])\n",
      "tensor([4.9999], grad_fn=<MulBackward0>)\n",
      "torch.Size([9, 1]) torch.Size([8, 1]) torch.Size([1, 9]) torch.Size([8]) torch.Size([1, 9])\n",
      "tensor([4.9860], grad_fn=<MulBackward0>)\n",
      "torch.Size([10, 1]) torch.Size([9, 1]) torch.Size([1, 10]) torch.Size([9]) torch.Size([1, 10])\n",
      "tensor([4.9907], grad_fn=<MulBackward0>)\n",
      "torch.Size([11, 1]) torch.Size([10, 1]) torch.Size([1, 11]) torch.Size([10]) torch.Size([1, 11])\n",
      "tensor([-4.4294], grad_fn=<MulBackward0>)\n",
      "torch.Size([12, 1]) torch.Size([11, 1]) torch.Size([1, 12]) torch.Size([11]) torch.Size([1, 12])\n",
      "tensor([4.9998], grad_fn=<MulBackward0>)\n",
      "torch.Size([13, 1]) torch.Size([12, 1]) torch.Size([1, 13]) torch.Size([12]) torch.Size([1, 13])\n",
      "tensor([4.9304], grad_fn=<MulBackward0>)\n",
      "torch.Size([14, 1]) torch.Size([13, 1]) torch.Size([1, 14]) torch.Size([13]) torch.Size([1, 14])\n",
      "tensor([4.9998], grad_fn=<MulBackward0>)\n",
      "torch.Size([15, 1]) torch.Size([14, 1]) torch.Size([1, 15]) torch.Size([14]) torch.Size([1, 15])\n",
      "tensor([4.9561], grad_fn=<MulBackward0>)\n",
      "torch.Size([16, 1]) torch.Size([15, 1]) torch.Size([1, 16]) torch.Size([15]) torch.Size([1, 16])\n",
      "tensor([4.9443], grad_fn=<MulBackward0>)\n",
      "torch.Size([17, 1]) torch.Size([16, 1]) torch.Size([1, 17]) torch.Size([16]) torch.Size([1, 17])\n",
      "tensor([4.9997], grad_fn=<MulBackward0>)\n",
      "torch.Size([18, 1]) torch.Size([17, 1]) torch.Size([1, 18]) torch.Size([17]) torch.Size([1, 18])\n",
      "tensor([4.7956], grad_fn=<MulBackward0>)\n",
      "torch.Size([19, 1]) torch.Size([18, 1]) torch.Size([1, 19]) torch.Size([18]) torch.Size([1, 19])\n",
      "tensor([4.7958], grad_fn=<MulBackward0>)\n",
      "torch.Size([20, 1]) torch.Size([19, 1]) torch.Size([1, 20]) torch.Size([19]) torch.Size([1, 20])\n",
      "tensor([4.9994], grad_fn=<MulBackward0>)\n",
      "torch.Size([21, 1]) torch.Size([20, 1]) torch.Size([1, 21]) torch.Size([20]) torch.Size([1, 21])\n",
      "tensor([4.9994], grad_fn=<MulBackward0>)\n",
      "torch.Size([22, 1]) torch.Size([21, 1]) torch.Size([1, 22]) torch.Size([21]) torch.Size([1, 22])\n",
      "tensor([4.9988], grad_fn=<MulBackward0>)\n",
      "torch.Size([23, 1]) torch.Size([22, 1]) torch.Size([1, 23]) torch.Size([22]) torch.Size([1, 23])\n",
      "tensor([4.9977], grad_fn=<MulBackward0>)\n",
      "torch.Size([24, 1]) torch.Size([23, 1]) torch.Size([1, 24]) torch.Size([23]) torch.Size([1, 24])\n",
      "tensor([4.8973], grad_fn=<MulBackward0>)\n",
      "torch.Size([25, 1]) torch.Size([24, 1]) torch.Size([1, 25]) torch.Size([24]) torch.Size([1, 25])\n",
      "tensor([4.9987], grad_fn=<MulBackward0>)\n",
      "torch.Size([26, 1]) torch.Size([25, 1]) torch.Size([1, 26]) torch.Size([25]) torch.Size([1, 26])\n",
      "tensor([4.9793], grad_fn=<MulBackward0>)\n",
      "torch.Size([27, 1]) torch.Size([26, 1]) torch.Size([1, 27]) torch.Size([26]) torch.Size([1, 27])\n",
      "tensor([4.0745], grad_fn=<MulBackward0>)\n",
      "torch.Size([28, 1]) torch.Size([27, 1]) torch.Size([1, 28]) torch.Size([27]) torch.Size([1, 28])\n",
      "tensor([4.9986], grad_fn=<MulBackward0>)\n",
      "torch.Size([29, 1]) torch.Size([28, 1]) torch.Size([1, 29]) torch.Size([28]) torch.Size([1, 29])\n",
      "tensor([4.7509], grad_fn=<MulBackward0>)\n",
      "torch.Size([30, 1]) torch.Size([29, 1]) torch.Size([1, 30]) torch.Size([29]) torch.Size([1, 30])\n",
      "tensor([-1.4681], grad_fn=<MulBackward0>)\n",
      "torch.Size([31, 1]) torch.Size([30, 1]) torch.Size([1, 31]) torch.Size([30]) torch.Size([1, 31])\n"
     ]
    }
   ],
   "source": [
    "for t in range(30):    \n",
    "    actions = torch.cat([actions, torch.zeros((1, act_dim))], dim=0)\n",
    "    rewards = torch.cat([rewards, torch.zeros(1)])\n",
    "    action = get_action(model,\n",
    "                            states,\n",
    "                            actions,\n",
    "                            rewards,\n",
    "                            target_return,\n",
    "                            timesteps)\n",
    "    print(action*5)\n",
    "    action_index = find_nearest(xs,action*5)\n",
    "    state = torch.tensor(ys[action_index]).view(1, 1)\n",
    "    action = torch.tensor(xs[action_index]).view(1, 1)\n",
    "    rtg = torch.tensor(int(target_return[0, -1])-1).float().reshape(1, 1)\n",
    "\n",
    "    states = torch.cat([states, state], dim=0).float()\n",
    "    actions[-1] = action\n",
    "    rewards[-1] = torch.ones(1)\n",
    "    target_return = torch.cat([target_return, rtg], dim=1).float()\n",
    "    timesteps = torch.cat([timesteps, torch.ones((1, 1)).long() * (t + 1)], dim=1)\n",
    "    print(states.size(), actions.size(),target_return.size(), rewards.size(), target_return.size())"
   ]
  },
  {
   "cell_type": "code",
   "execution_count": 6,
   "id": "a56c957d",
   "metadata": {},
   "outputs": [
    {
     "name": "stdout",
     "output_type": "stream",
     "text": [
      "[0.07000000029802322, 0.0, 0.0, 4.934999942779541, 4.989999771118164, 4.989999771118164, 5.0, 5.0, 4.985000133514404, 4.989999771118164, 0.0, 5.0, 4.929999828338623, 5.0, 4.954999923706055, 4.945000171661377, 5.0, 4.795000076293945, 4.795000076293945, 5.0, 5.0, 5.0, 5.0, 4.894999980926514, 5.0, 4.980000019073486, 4.074999809265137, 5.0, 4.75, 0.0]\n",
      "31\n",
      "max_value: 0.8560300469398499\n",
      "max_index: 18\n"
     ]
    },
    {
     "data": {
      "image/png": "[encoded data removed]",
      "text/plain": [
       "<Figure size 640x480 with 1 Axes>"
      ]
     },
     "metadata": {},
     "output_type": "display_data"
    }
   ],
   "source": [
    "print(actions.reshape(-1).tolist())\n",
    "print(len(states.reshape(-1).tolist()))\n",
    "print(\"max_value:\", torch.max(states).item())\n",
    "print(\"max_index:\", torch.argmax(states).item())\n",
    "plt.plot(xs, ys, label = 'groundtruth')\n",
    "plt.scatter(actions, states[1:], label = 'observations',c='b')\n",
    "plt.legend()\n",
    "plt.title( 'PI data No.'+str(filename) )\n",
    "plt.show()"
   ]
  },
  {
   "cell_type": "code",
   "execution_count": 7,
   "id": "7f998e10",
   "metadata": {},
   "outputs": [
    {
     "name": "stdout",
     "output_type": "stream",
     "text": [
      "[3.735, 0.0, 0.86, 0.96, 0.8200000000000001, 0.76, 0.66, 0.63, 1.32, 2.1750000000000003, 2.235, 2.07, 4.575, 4.675, 4.4350000000000005, 4.835, 4.945, 2.99, 2.865, 3.145, 2.695, 2.645, 2.54, 4.105, 1.695, 1.72, 1.6400000000000001, 3.435, 0.29, 3.94, 4.255, 0.41500000000000004, 3.575, 3.3000000000000003, 1.87, 0.155, 1.1300000000000001, 2.39, 4.32, 4.195, 1.49, 0.495, 3.835, 5.0, 3.235, 4.755, 1.205, 2.785, 1.965, 0.075, 3.6550000000000002, 0] [0, -0.6250762041214045, -0.5681424030680832, 0.1642534074841468, -0.6092041357060602, 0.3680109104289028, 0.4949049722078865, 1.1832205329391008, 1.1914882796809394, -2.2383187886964397, 1.0814212867534516, 1.0245921516336474, -0.4345148689017537, 0.7652276639764811, 0.7360187314858049, 0.10058988888118321, 0.7861115957725884, 0.4307974516011793, 0.5800560575903002, 0.5668338030505861, -0.26899053000129997, 1.1602292902251623, 1.154923932830813, 0.43020799552765826, 0.26206678582391096, 2.6730387989219673, 2.593288167724146, 2.1109965038009197, -0.06490318263147667, 0.6560959005237793, -0.8455440470023323, 1.7165118520294746, 1.2473233634412009, -0.7506979107943184, 1.2699450427223564, 0.1134268335735682, -0.5519999276125631, 0.42103107830772674, -1.1142781305849165, 0.3165938873653324, 2.1614265129414165, 0.23008588075507877, 1.2198638448838093, -1.4864591883310811, 0.7810947647226019, 0.7801908353249076, 0.7824357235715943, -0.4757085314032074, 1.2607647850267172, -1.054315683292044, -0.11355670144341846, -0.47945674206180294]\n"
     ]
    }
   ],
   "source": [
    "print(data['A'],data['S'])"
   ]
  }
 ],
 "metadata": {
  "kernelspec": {
   "display_name": "Python 3 (ipykernel)",
   "language": "python",
   "name": "python3"
  },
  "language_info": {
   "codemirror_mode": {
    "name": "ipython",
    "version": 3
   },
   "file_extension": ".py",
   "mimetype": "text/x-python",
   "name": "python",
   "nbconvert_exporter": "python",
   "pygments_lexer": "ipython3",
   "version": "3.9.16"
  }
 },
 "nbformat": 4,
 "nbformat_minor": 5
}
